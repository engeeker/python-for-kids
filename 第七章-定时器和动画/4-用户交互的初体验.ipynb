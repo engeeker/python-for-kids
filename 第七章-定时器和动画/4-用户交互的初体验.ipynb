{
 "cells": [
  {
   "cell_type": "code",
   "execution_count": 7,
   "metadata": {},
   "outputs": [],
   "source": [
    "import pygame                           \n",
    "pygame.init()\n",
    "screen = pygame.display.set_mode([800,600])\n",
    "keep_going = True\n",
    "RED = (255,0,0)                        \n",
    "radius = 15\n",
    "flag = False\n",
    "while keep_going:                      \n",
    "    for event in pygame.event.get():    # Handling events \n",
    "        if event.type == pygame.QUIT: \n",
    "            keep_going = False\n",
    "        if event.type == pygame.MOUSEBUTTONDOWN:\n",
    "            flag = True\n",
    "        if event.type == pygame.MOUSEBUTTONUP:\n",
    "            flag = False\n",
    "    if flag == True:\n",
    "        pygame.draw.circle(screen, RED, pygame.mouse.get_pos(), radius)\n",
    "    pygame.display.update()\n",
    "pygame.quit()         "
   ]
  },
  {
   "cell_type": "code",
   "execution_count": 8,
   "metadata": {},
   "outputs": [],
   "source": [
    "import pygame                           \n",
    "pygame.init()\n",
    "screen = pygame.display.set_mode([800,600])\n",
    "keep_going = True\n",
    "RED = (255,0,0)                        \n",
    "radius = 15\n",
    "while keep_going:                      \n",
    "    for event in pygame.event.get():    # Handling events \n",
    "        if event.type == pygame.QUIT: \n",
    "            keep_going = False\n",
    "    pygame.draw.circle(screen, RED, pygame.mouse.get_pos(), radius)\n",
    "    pygame.display.update()\n",
    "pygame.quit()  "
   ]
  },
  {
   "cell_type": "code",
   "execution_count": null,
   "metadata": {},
   "outputs": [],
   "source": []
  }
 ],
 "metadata": {
  "kernelspec": {
   "display_name": "Python 3",
   "language": "python",
   "name": "python3"
  },
  "language_info": {
   "codemirror_mode": {
    "name": "ipython",
    "version": 3
   },
   "file_extension": ".py",
   "mimetype": "text/x-python",
   "name": "python",
   "nbconvert_exporter": "python",
   "pygments_lexer": "ipython3",
   "version": "3.7.3"
  }
 },
 "nbformat": 4,
 "nbformat_minor": 2
}
