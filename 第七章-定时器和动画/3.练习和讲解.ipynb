{
 "cells": [
  {
   "cell_type": "code",
   "execution_count": 6,
   "metadata": {},
   "outputs": [],
   "source": [
    "import pygame        # Setup\n",
    "pygame.init()\n",
    "screen = pygame.display.set_mode([800,600])\n",
    "keep_going = True\n",
    "pic = pygame.image.load(\"flight.png\")\n",
    "picx = 0\n",
    "picy = 0\n",
    "BLACK = (0,0,0)\n",
    "timer = pygame.time.Clock()\n",
    "speedx = 5\n",
    "speedy = 5\n",
    "while keep_going:    # Game loop\n",
    "    for event in pygame.event.get():\n",
    "        if event.type == pygame.QUIT:\n",
    "            keep_going = False\n",
    "    picx = picx + speedx\n",
    "    picy += speedy\n",
    "    if picx <= 0 or picx + pic.get_width() >= 800:\n",
    "        speedx = -speedx\n",
    "    if picy <= 0 or picy + pic.get_width() >= 600:\n",
    "        speedy = -speedy\n",
    "    screen.fill(BLACK)\n",
    "    screen.blit(pic, (picx, picy))\n",
    "    pygame.display.update()\n",
    "    timer.tick(60)\n",
    "pygame.quit()        # Exit"
   ]
  },
  {
   "cell_type": "code",
   "execution_count": null,
   "metadata": {},
   "outputs": [],
   "source": []
  }
 ],
 "metadata": {
  "kernelspec": {
   "display_name": "Python 3",
   "language": "python",
   "name": "python3"
  },
  "language_info": {
   "codemirror_mode": {
    "name": "ipython",
    "version": 3
   },
   "file_extension": ".py",
   "mimetype": "text/x-python",
   "name": "python",
   "nbconvert_exporter": "python",
   "pygments_lexer": "ipython3",
   "version": "3.7.3"
  }
 },
 "nbformat": 4,
 "nbformat_minor": 2
}
