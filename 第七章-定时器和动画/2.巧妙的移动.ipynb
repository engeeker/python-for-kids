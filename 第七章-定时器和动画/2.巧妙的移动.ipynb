{
 "cells": [
  {
   "cell_type": "code",
   "execution_count": 15,
   "metadata": {},
   "outputs": [],
   "source": [
    "import pygame\n",
    "\n",
    "pygame.init()\n",
    "screen = pygame.display.set_mode([800, 600])\n",
    "timer = pygame.time.Clock()\n",
    "\n",
    "keep_going = True\n",
    "GREEN = (0, 255, 0)    # R  G   B\n",
    "BLACK = (0, 0, 0)\n",
    "radius = 50\n",
    "x = 100\n",
    "y = 100\n",
    "speed = 1\n",
    "while keep_going:\n",
    "    for event in pygame.event.get():\n",
    "        if event.type == pygame.QUIT:\n",
    "            keep_going = False\n",
    "    screen.fill(BLACK)\n",
    "    pygame.draw.circle(screen, GREEN, (x, y), radius)\n",
    "    pygame.display.update()\n",
    "    timer.tick(60)\n",
    "    \n",
    "    if x + 50 >= 600 or x < 100:\n",
    "        speed = -speed\n",
    "    \n",
    "    x = x + speed\n",
    "    y = y + speed\n",
    "pygame.quit()"
   ]
  },
  {
   "cell_type": "code",
   "execution_count": null,
   "metadata": {},
   "outputs": [],
   "source": []
  }
 ],
 "metadata": {
  "kernelspec": {
   "display_name": "Python 3",
   "language": "python",
   "name": "python3"
  },
  "language_info": {
   "codemirror_mode": {
    "name": "ipython",
    "version": 3
   },
   "file_extension": ".py",
   "mimetype": "text/x-python",
   "name": "python",
   "nbconvert_exporter": "python",
   "pygments_lexer": "ipython3",
   "version": "3.7.3"
  }
 },
 "nbformat": 4,
 "nbformat_minor": 2
}
