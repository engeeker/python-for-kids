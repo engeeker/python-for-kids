{
 "cells": [
  {
   "cell_type": "code",
   "execution_count": 1,
   "metadata": {},
   "outputs": [],
   "source": [
    "import turtle\n",
    "import random"
   ]
  },
  {
   "cell_type": "code",
   "execution_count": null,
   "metadata": {},
   "outputs": [],
   "source": [
    "p = turtle.Pen()"
   ]
  },
  {
   "cell_type": "code",
   "execution_count": 4,
   "metadata": {},
   "outputs": [],
   "source": [
    "p.reset()\n",
    "colors = [\"red\", \"yellow\", \"blue\", \"green\", \"orange\", \"purple\", \"white\", \"gray\"]\n",
    "\n",
    "p.speed(0)\n",
    "\n",
    "for x in range(36):\n",
    "    p.pencolor(random.choice(colors))\n",
    "    p.circle(100)\n",
    "    p.left(10)"
   ]
  },
  {
   "cell_type": "code",
   "execution_count": 7,
   "metadata": {},
   "outputs": [],
   "source": []
  },
  {
   "cell_type": "code",
   "execution_count": 2,
   "metadata": {},
   "outputs": [],
   "source": [
    "import random\n",
    "import turtle\n",
    "t = turtle.Pen()\n",
    "t.speed(0)\n",
    "turtle.bgcolor(\"black\")\n",
    "colors = [\"red\", \"yellow\", \"blue\", \"green\", \"orange\", \"purple\", \"white\", \"gray\"]\n",
    "for n in range(50):\n",
    "    # Generate spirals of random sizes/colors at random locations\n",
    "    t.pencolor(random.choice(colors)) # Pick a random color\n",
    "    size = random.randint(10,40) # Pick a random spiral size\n",
    "    # Generate a random (x,y) location on the screen\n",
    "    x = random.randrange(-turtle.window_width()//2, turtle.window_width()//2)\n",
    "    y = random.randrange(-turtle.window_height()//2, turtle.window_height()//2)\n",
    "    t.penup()\n",
    "    t.setpos(x,y)\n",
    "    t.pendown()\n",
    "    for m in range(size):\n",
    "        t.forward(m*2)\n",
    "        t.left(91)"
   ]
  },
  {
   "cell_type": "code",
   "execution_count": null,
   "metadata": {},
   "outputs": [],
   "source": []
  }
 ],
 "metadata": {
  "kernelspec": {
   "display_name": "Python 3",
   "language": "python",
   "name": "python3"
  },
  "language_info": {
   "codemirror_mode": {
    "name": "ipython",
    "version": 3
   },
   "file_extension": ".py",
   "mimetype": "text/x-python",
   "name": "python",
   "nbconvert_exporter": "python",
   "pygments_lexer": "ipython3",
   "version": "3.7.3"
  }
 },
 "nbformat": 4,
 "nbformat_minor": 2
}
