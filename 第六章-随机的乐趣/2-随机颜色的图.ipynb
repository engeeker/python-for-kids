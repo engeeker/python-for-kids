{
 "cells": [
  {
   "cell_type": "code",
   "execution_count": null,
   "metadata": {},
   "outputs": [],
   "source": [
    "import turtle\n",
    "import random \n",
    "\n",
    "p = turtle.Pen()\n",
    "\n",
    "p.speed(0)\n",
    "\n",
    "turtle.bgcolor('black')   #设置背景颜色为黑色\n",
    "colors = ['red', 'yellow', 'blue', 'green', 'orange', 'purple', 'white']\n",
    "\n",
    "for n in range(50):  # 一共画50个图形\n",
    "    p.pencolor(random.choice(colors))  # 随机选择一个颜色\n",
    "    size = random.randint(10, 40)\n",
    "    #设置x，y坐标\n",
    "    x = random.randrange(\n",
    "        -turtle.window_width()//2, turtle.window_width()//2)\n",
    "    y = random.randrange(\n",
    "        -turtle.window_height()//2, turtle.window_height()//2\n",
    "    )\n",
    "    \n",
    "    p.penup()\n",
    "    p.setpos(x, y)\n",
    "    p.pendown()\n",
    "    for x in range(size):\n",
    "        p.forward(x*2)\n",
    "        p.left(91)\n"
   ]
  }
 ],
 "metadata": {
  "kernelspec": {
   "display_name": "Python 3",
   "language": "python",
   "name": "python3"
  },
  "language_info": {
   "codemirror_mode": {
    "name": "ipython",
    "version": 3
   },
   "file_extension": ".py",
   "mimetype": "text/x-python",
   "name": "python",
   "nbconvert_exporter": "python",
   "pygments_lexer": "ipython3",
   "version": "3.7.3"
  }
 },
 "nbformat": 4,
 "nbformat_minor": 2
}
