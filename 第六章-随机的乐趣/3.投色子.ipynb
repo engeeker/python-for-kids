{
 "cells": [
  {
   "cell_type": "code",
   "execution_count": 8,
   "metadata": {},
   "outputs": [],
   "source": [
    "import random\n",
    "\n",
    "def toushaizi():\n",
    "    return random.randint(1, 6)"
   ]
  },
  {
   "cell_type": "code",
   "execution_count": 15,
   "metadata": {},
   "outputs": [
    {
     "name": "stdout",
     "output_type": "stream",
     "text": [
      "计算机投掷结果= 2\n",
      "您的投掷结果= 2\n",
      "打成了平手\n"
     ]
    }
   ],
   "source": [
    "computer_result = toushaizi()\n",
    "\n",
    "print(\"计算机投掷结果=\", computer_result)\n",
    "\n",
    "human_result = toushaizi()\n",
    "\n",
    "print(\"您的投掷结果=\", human_result)\n",
    "\n",
    "if computer_result == human_result:\n",
    "    print('打成了平手')\n",
    "elif computer_result > human_result:\n",
    "    print('您输了')\n",
    "else:\n",
    "    print('您赢了')"
   ]
  },
  {
   "cell_type": "code",
   "execution_count": 16,
   "metadata": {},
   "outputs": [
    {
     "name": "stdout",
     "output_type": "stream",
     "text": [
      "{1: 1696, 2: 1650, 3: 1721, 4: 1607, 5: 1650, 6: 1676}\n"
     ]
    }
   ],
   "source": [
    "result = {\n",
    "    1: 0,\n",
    "    2: 0,\n",
    "    3: 0,\n",
    "    4: 0,\n",
    "    5: 0,\n",
    "    6: 0\n",
    "}\n",
    "\n",
    "for x in range(10000):\n",
    "    a = toushaizi()\n",
    "    result[a] = result[a] + 1\n",
    "\n",
    "print(result)"
   ]
  },
  {
   "cell_type": "code",
   "execution_count": null,
   "metadata": {},
   "outputs": [],
   "source": []
  }
 ],
 "metadata": {
  "kernelspec": {
   "display_name": "Python 3",
   "language": "python",
   "name": "python3"
  },
  "language_info": {
   "codemirror_mode": {
    "name": "ipython",
    "version": 3
   },
   "file_extension": ".py",
   "mimetype": "text/x-python",
   "name": "python",
   "nbconvert_exporter": "python",
   "pygments_lexer": "ipython3",
   "version": "3.7.3"
  }
 },
 "nbformat": 4,
 "nbformat_minor": 2
}
