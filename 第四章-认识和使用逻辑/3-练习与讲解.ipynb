{
 "cells": [
  {
   "cell_type": "markdown",
   "metadata": {},
   "source": [
    "# 猜数字的游戏"
   ]
  },
  {
   "cell_type": "markdown",
   "metadata": {},
   "source": [
    "#### 系统会随机生成一个范围1-100的数字，然后用户去猜这个数字，一共有10次机会。\n",
    "#### 每猜一次，如果猜错，系统会提示用户真实结果比用户猜的大或者小，如果用户猜对，程序退出。"
   ]
  },
  {
   "cell_type": "markdown",
   "metadata": {},
   "source": [
    "#### 例如： 系统生成的数字是50，如果用户猜60，则提示用户真实数据比这个小，\n",
    "#### 那么用户根据提示得知，这个数应该是1-60之间，下次我们可以猜30，以此类推，一共10次机会"
   ]
  },
  {
   "cell_type": "code",
   "execution_count": 12,
   "metadata": {},
   "outputs": [
    {
     "name": "stdout",
     "output_type": "stream",
     "text": [
      "请输入一个范围是1-100的整数：50\n",
      "猜小了\n",
      "您还有9次机会\n",
      "请输入一个范围是1-100的整数：70\n",
      "猜大了\n",
      "您还有8次机会\n",
      "请输入一个范围是1-100的整数：60\n",
      "猜小了\n",
      "您还有7次机会\n",
      "请输入一个范围是1-100的整数：65\n",
      "猜大了\n",
      "您还有6次机会\n",
      "请输入一个范围是1-100的整数：63\n",
      "恭喜您，猜对了\n"
     ]
    }
   ],
   "source": [
    "import random\n",
    "a = random.randint(1, 100)\n",
    "\n",
    "for x in range(10):\n",
    "    b = int(input('请输入一个范围是1-100的整数：'))\n",
    "\n",
    "    if b == a:\n",
    "        print('恭喜您，猜对了')\n",
    "        break\n",
    "    elif b > a:\n",
    "        print('猜大了')\n",
    "    else:\n",
    "        print('猜小了')\n",
    "    print(f'您还有{9-x}次机会')"
   ]
  },
  {
   "cell_type": "markdown",
   "metadata": {},
   "source": [
    "# 二分查找"
   ]
  },
  {
   "cell_type": "code",
   "execution_count": null,
   "metadata": {},
   "outputs": [],
   "source": []
  }
 ],
 "metadata": {
  "kernelspec": {
   "display_name": "Python 3",
   "language": "python",
   "name": "python3"
  },
  "language_info": {
   "codemirror_mode": {
    "name": "ipython",
    "version": 3
   },
   "file_extension": ".py",
   "mimetype": "text/x-python",
   "name": "python",
   "nbconvert_exporter": "python",
   "pygments_lexer": "ipython3",
   "version": "3.7.3"
  }
 },
 "nbformat": 4,
 "nbformat_minor": 2
}
